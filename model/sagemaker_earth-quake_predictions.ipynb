{
 "cells": [
  {
   "cell_type": "markdown",
   "id": "b13adec2",
   "metadata": {},
   "source": [
    "# Earthqauke Alert\n",
    "\n"
   ]
  },
  {
   "cell_type": "markdown",
   "id": "d26ac600",
   "metadata": {},
   "source": [
    "by Roger Koranteng"
   ]
  },
  {
   "cell_type": "code",
   "execution_count": 1,
   "id": "f18163c6",
   "metadata": {},
   "outputs": [],
   "source": [
    "import pandas as pd\n",
    "import numpy as np\n",
    "import matplotlib.pyplot as plt\n",
    "from sklearn import preprocessing;\n",
    "from sklearn import model_selection;\n",
    "from sklearn import linear_model;\n",
    "from sklearn.model_selection import train_test_split\n",
    "from sklearn.datasets import make_classification\n",
    "from sklearn.ensemble import RandomForestClassifier\n",
    "from sklearn.ensemble import AdaBoostClassifier\n",
    "from sklearn.tree import DecisionTreeClassifier\n",
    "from sklearn.model_selection import GridSearchCV\n",
    "from sklearn.metrics import roc_curve\n",
    "from sklearn.metrics import auc\n",
    "from sklearn.metrics import roc_auc_score\n",
    "from sklearn.metrics import recall_score\n",
    "from sklearn.metrics import confusion_matrix\n",
    "%matplotlib inline\n",
    "import xgboost as xgb"
   ]
  },
  {
   "cell_type": "code",
   "execution_count": 2,
   "id": "616c074d",
   "metadata": {},
   "outputs": [],
   "source": [
    "data = pd.read_csv('EarthQuake.csv')"
   ]
  },
  {
   "cell_type": "code",
   "execution_count": 3,
   "id": "609e42f8",
   "metadata": {},
   "outputs": [],
   "source": [
    "data_predict = pd.read_csv('Earthquake_predict.csv')"
   ]
  },
  {
   "cell_type": "code",
   "execution_count": 4,
   "id": "f70e70c5",
   "metadata": {},
   "outputs": [
    {
     "data": {
      "text/html": [
       "<div>\n",
       "<style scoped>\n",
       "    .dataframe tbody tr th:only-of-type {\n",
       "        vertical-align: middle;\n",
       "    }\n",
       "\n",
       "    .dataframe tbody tr th {\n",
       "        vertical-align: top;\n",
       "    }\n",
       "\n",
       "    .dataframe thead th {\n",
       "        text-align: right;\n",
       "    }\n",
       "</style>\n",
       "<table border=\"1\" class=\"dataframe\">\n",
       "  <thead>\n",
       "    <tr style=\"text-align: right;\">\n",
       "      <th></th>\n",
       "      <th>date</th>\n",
       "      <th>depth</th>\n",
       "      <th>mag</th>\n",
       "      <th>place</th>\n",
       "      <th>latitude</th>\n",
       "      <th>longitude</th>\n",
       "      <th>depth_avg_20</th>\n",
       "      <th>depth_avg_10</th>\n",
       "      <th>depth_avg_5</th>\n",
       "      <th>mag_avg_20</th>\n",
       "      <th>mag_avg_10</th>\n",
       "      <th>mag_avg_5</th>\n",
       "      <th>mag_outcome</th>\n",
       "    </tr>\n",
       "  </thead>\n",
       "  <tbody>\n",
       "    <tr>\n",
       "      <th>0</th>\n",
       "      <td>2020-07-13</td>\n",
       "      <td>7.00</td>\n",
       "      <td>0.40</td>\n",
       "      <td>Aleutian Islands</td>\n",
       "      <td>51.900695</td>\n",
       "      <td>6.601789</td>\n",
       "      <td>50.106818</td>\n",
       "      <td>58.450667</td>\n",
       "      <td>55.807143</td>\n",
       "      <td>1.868636</td>\n",
       "      <td>2.100000</td>\n",
       "      <td>2.471429</td>\n",
       "      <td>0</td>\n",
       "    </tr>\n",
       "    <tr>\n",
       "      <th>1</th>\n",
       "      <td>2020-07-14</td>\n",
       "      <td>40.30</td>\n",
       "      <td>2.00</td>\n",
       "      <td>Aleutian Islands</td>\n",
       "      <td>51.900695</td>\n",
       "      <td>6.601789</td>\n",
       "      <td>51.343182</td>\n",
       "      <td>58.370667</td>\n",
       "      <td>46.020000</td>\n",
       "      <td>1.855000</td>\n",
       "      <td>2.066667</td>\n",
       "      <td>2.385714</td>\n",
       "      <td>0</td>\n",
       "    </tr>\n",
       "    <tr>\n",
       "      <th>2</th>\n",
       "      <td>2020-07-14</td>\n",
       "      <td>79.40</td>\n",
       "      <td>1.60</td>\n",
       "      <td>Aleutian Islands</td>\n",
       "      <td>51.900695</td>\n",
       "      <td>6.601789</td>\n",
       "      <td>52.397727</td>\n",
       "      <td>63.523333</td>\n",
       "      <td>55.977143</td>\n",
       "      <td>1.845909</td>\n",
       "      <td>2.226667</td>\n",
       "      <td>2.342857</td>\n",
       "      <td>0</td>\n",
       "    </tr>\n",
       "    <tr>\n",
       "      <th>3</th>\n",
       "      <td>2020-07-14</td>\n",
       "      <td>88.10</td>\n",
       "      <td>1.80</td>\n",
       "      <td>Aleutian Islands</td>\n",
       "      <td>51.900695</td>\n",
       "      <td>6.601789</td>\n",
       "      <td>55.861364</td>\n",
       "      <td>67.416667</td>\n",
       "      <td>51.520000</td>\n",
       "      <td>1.823182</td>\n",
       "      <td>2.233333</td>\n",
       "      <td>2.185714</td>\n",
       "      <td>0</td>\n",
       "    </tr>\n",
       "    <tr>\n",
       "      <th>4</th>\n",
       "      <td>2020-07-14</td>\n",
       "      <td>7.08</td>\n",
       "      <td>0.15</td>\n",
       "      <td>Aleutian Islands</td>\n",
       "      <td>51.900695</td>\n",
       "      <td>6.601789</td>\n",
       "      <td>55.942727</td>\n",
       "      <td>60.222000</td>\n",
       "      <td>35.568571</td>\n",
       "      <td>1.805909</td>\n",
       "      <td>2.083333</td>\n",
       "      <td>1.750000</td>\n",
       "      <td>0</td>\n",
       "    </tr>\n",
       "  </tbody>\n",
       "</table>\n",
       "</div>"
      ],
      "text/plain": [
       "         date  depth   mag             place   latitude  longitude  \\\n",
       "0  2020-07-13   7.00  0.40  Aleutian Islands  51.900695   6.601789   \n",
       "1  2020-07-14  40.30  2.00  Aleutian Islands  51.900695   6.601789   \n",
       "2  2020-07-14  79.40  1.60  Aleutian Islands  51.900695   6.601789   \n",
       "3  2020-07-14  88.10  1.80  Aleutian Islands  51.900695   6.601789   \n",
       "4  2020-07-14   7.08  0.15  Aleutian Islands  51.900695   6.601789   \n",
       "\n",
       "   depth_avg_20  depth_avg_10  depth_avg_5  mag_avg_20  mag_avg_10  mag_avg_5  \\\n",
       "0     50.106818     58.450667    55.807143    1.868636    2.100000   2.471429   \n",
       "1     51.343182     58.370667    46.020000    1.855000    2.066667   2.385714   \n",
       "2     52.397727     63.523333    55.977143    1.845909    2.226667   2.342857   \n",
       "3     55.861364     67.416667    51.520000    1.823182    2.233333   2.185714   \n",
       "4     55.942727     60.222000    35.568571    1.805909    2.083333   1.750000   \n",
       "\n",
       "   mag_outcome  \n",
       "0            0  \n",
       "1            0  \n",
       "2            0  \n",
       "3            0  \n",
       "4            0  "
      ]
     },
     "execution_count": 4,
     "metadata": {},
     "output_type": "execute_result"
    }
   ],
   "source": [
    "data.head()"
   ]
  },
  {
   "cell_type": "code",
   "execution_count": 5,
   "id": "45df75a5",
   "metadata": {},
   "outputs": [
    {
     "data": {
      "text/html": [
       "<div>\n",
       "<style scoped>\n",
       "    .dataframe tbody tr th:only-of-type {\n",
       "        vertical-align: middle;\n",
       "    }\n",
       "\n",
       "    .dataframe tbody tr th {\n",
       "        vertical-align: top;\n",
       "    }\n",
       "\n",
       "    .dataframe thead th {\n",
       "        text-align: right;\n",
       "    }\n",
       "</style>\n",
       "<table border=\"1\" class=\"dataframe\">\n",
       "  <thead>\n",
       "    <tr style=\"text-align: right;\">\n",
       "      <th></th>\n",
       "      <th>date</th>\n",
       "      <th>depth</th>\n",
       "      <th>mag</th>\n",
       "      <th>place</th>\n",
       "      <th>latitude</th>\n",
       "      <th>longitude</th>\n",
       "      <th>depth_avg_22</th>\n",
       "      <th>depth_avg_15</th>\n",
       "      <th>depth_avg_7</th>\n",
       "      <th>mag_avg_22</th>\n",
       "      <th>mag_avg_15</th>\n",
       "      <th>mag_avg_7</th>\n",
       "      <th>mag_outcome</th>\n",
       "    </tr>\n",
       "  </thead>\n",
       "  <tbody>\n",
       "    <tr>\n",
       "      <th>0</th>\n",
       "      <td>2020-08-03</td>\n",
       "      <td>140.81</td>\n",
       "      <td>4.4</td>\n",
       "      <td>Papua New Guinea</td>\n",
       "      <td>-5.297074</td>\n",
       "      <td>148.894953</td>\n",
       "      <td>73.251364</td>\n",
       "      <td>70.354000</td>\n",
       "      <td>83.355714</td>\n",
       "      <td>4.718182</td>\n",
       "      <td>4.820000</td>\n",
       "      <td>4.942857</td>\n",
       "      <td>NaN</td>\n",
       "    </tr>\n",
       "    <tr>\n",
       "      <th>1</th>\n",
       "      <td>2020-08-04</td>\n",
       "      <td>172.48</td>\n",
       "      <td>5.4</td>\n",
       "      <td>Papua New Guinea</td>\n",
       "      <td>-5.297074</td>\n",
       "      <td>148.894953</td>\n",
       "      <td>76.803636</td>\n",
       "      <td>75.935333</td>\n",
       "      <td>106.567143</td>\n",
       "      <td>4.763636</td>\n",
       "      <td>4.893333</td>\n",
       "      <td>4.857143</td>\n",
       "      <td>NaN</td>\n",
       "    </tr>\n",
       "    <tr>\n",
       "      <th>2</th>\n",
       "      <td>2020-08-05</td>\n",
       "      <td>94.65</td>\n",
       "      <td>5.0</td>\n",
       "      <td>Papua New Guinea</td>\n",
       "      <td>-5.297074</td>\n",
       "      <td>148.894953</td>\n",
       "      <td>79.948636</td>\n",
       "      <td>76.711333</td>\n",
       "      <td>105.600000</td>\n",
       "      <td>4.790909</td>\n",
       "      <td>4.933333</td>\n",
       "      <td>4.971429</td>\n",
       "      <td>NaN</td>\n",
       "    </tr>\n",
       "    <tr>\n",
       "      <th>3</th>\n",
       "      <td>2020-08-06</td>\n",
       "      <td>196.24</td>\n",
       "      <td>4.8</td>\n",
       "      <td>Papua New Guinea</td>\n",
       "      <td>-5.297074</td>\n",
       "      <td>148.894953</td>\n",
       "      <td>87.892273</td>\n",
       "      <td>89.127333</td>\n",
       "      <td>113.395714</td>\n",
       "      <td>4.813636</td>\n",
       "      <td>4.926667</td>\n",
       "      <td>5.071429</td>\n",
       "      <td>NaN</td>\n",
       "    </tr>\n",
       "    <tr>\n",
       "      <th>4</th>\n",
       "      <td>2020-08-06</td>\n",
       "      <td>85.48</td>\n",
       "      <td>4.7</td>\n",
       "      <td>Papua New Guinea</td>\n",
       "      <td>-5.297074</td>\n",
       "      <td>148.894953</td>\n",
       "      <td>88.371818</td>\n",
       "      <td>81.767333</td>\n",
       "      <td>124.178571</td>\n",
       "      <td>4.809091</td>\n",
       "      <td>4.953333</td>\n",
       "      <td>4.914286</td>\n",
       "      <td>NaN</td>\n",
       "    </tr>\n",
       "  </tbody>\n",
       "</table>\n",
       "</div>"
      ],
      "text/plain": [
       "         date   depth  mag             place  latitude   longitude  \\\n",
       "0  2020-08-03  140.81  4.4  Papua New Guinea -5.297074  148.894953   \n",
       "1  2020-08-04  172.48  5.4  Papua New Guinea -5.297074  148.894953   \n",
       "2  2020-08-05   94.65  5.0  Papua New Guinea -5.297074  148.894953   \n",
       "3  2020-08-06  196.24  4.8  Papua New Guinea -5.297074  148.894953   \n",
       "4  2020-08-06   85.48  4.7  Papua New Guinea -5.297074  148.894953   \n",
       "\n",
       "   depth_avg_22  depth_avg_15  depth_avg_7  mag_avg_22  mag_avg_15  mag_avg_7  \\\n",
       "0     73.251364     70.354000    83.355714    4.718182    4.820000   4.942857   \n",
       "1     76.803636     75.935333   106.567143    4.763636    4.893333   4.857143   \n",
       "2     79.948636     76.711333   105.600000    4.790909    4.933333   4.971429   \n",
       "3     87.892273     89.127333   113.395714    4.813636    4.926667   5.071429   \n",
       "4     88.371818     81.767333   124.178571    4.809091    4.953333   4.914286   \n",
       "\n",
       "   mag_outcome  \n",
       "0          NaN  \n",
       "1          NaN  \n",
       "2          NaN  \n",
       "3          NaN  \n",
       "4          NaN  "
      ]
     },
     "execution_count": 5,
     "metadata": {},
     "output_type": "execute_result"
    }
   ],
   "source": [
    "data_predict.head()"
   ]
  },
  {
   "cell_type": "markdown",
   "id": "20a4d4e8",
   "metadata": {},
   "source": [
    "Determine the correletion between the variables by using the coor() function"
   ]
  },
  {
   "cell_type": "code",
   "execution_count": 6,
   "id": "34beb5ca",
   "metadata": {},
   "outputs": [],
   "source": [
    "corr_matrix = data.corr()"
   ]
  },
  {
   "cell_type": "code",
   "execution_count": 7,
   "id": "80135c68",
   "metadata": {},
   "outputs": [
    {
     "data": {
      "text/plain": [
       "mag_outcome     1.000000\n",
       "mag_avg_20      0.631452\n",
       "mag_avg_10      0.616365\n",
       "mag_avg_5       0.583941\n",
       "longitude       0.523044\n",
       "mag             0.414083\n",
       "depth_avg_20    0.189901\n",
       "depth_avg_10    0.183527\n",
       "depth_avg_5     0.165947\n",
       "depth           0.099755\n",
       "latitude       -0.347483\n",
       "Name: mag_outcome, dtype: float64"
      ]
     },
     "execution_count": 7,
     "metadata": {},
     "output_type": "execute_result"
    }
   ],
   "source": [
    "corr_matrix['mag_outcome'].sort_values(ascending=False)"
   ]
  },
  {
   "cell_type": "markdown",
   "id": "142c3966",
   "metadata": {},
   "source": [
    "Removing some attributes to make the data more clean and precise for prediction"
   ]
  },
  {
   "cell_type": "code",
   "execution_count": 8,
   "id": "91ac9d59",
   "metadata": {},
   "outputs": [],
   "source": [
    "attributes = [f for f in list(data) if f not in ['date', 'lon_box_mean',\n",
    " 'lat_box_mean', 'mag_outcome', 'mag', 'place',\n",
    " 'combo_box_mean',  'latitude',\n",
    " 'longitude']]\n",
    "\n",
    "# splitting training and testing dataset 80% and 20% respectively\n",
    "X_train, X_test, y_train, y_test = train_test_split(data[attributes],\n",
    "                     data['mag_outcome'], test_size=0.2, random_state=42)\n",
    "  "
   ]
  },
  {
   "cell_type": "code",
   "execution_count": 9,
   "id": "093f48da",
   "metadata": {},
   "outputs": [
    {
     "data": {
      "text/html": [
       "<div>\n",
       "<style scoped>\n",
       "    .dataframe tbody tr th:only-of-type {\n",
       "        vertical-align: middle;\n",
       "    }\n",
       "\n",
       "    .dataframe tbody tr th {\n",
       "        vertical-align: top;\n",
       "    }\n",
       "\n",
       "    .dataframe thead th {\n",
       "        text-align: right;\n",
       "    }\n",
       "</style>\n",
       "<table border=\"1\" class=\"dataframe\">\n",
       "  <thead>\n",
       "    <tr style=\"text-align: right;\">\n",
       "      <th></th>\n",
       "      <th>depth</th>\n",
       "      <th>depth_avg_20</th>\n",
       "      <th>depth_avg_10</th>\n",
       "      <th>depth_avg_5</th>\n",
       "      <th>mag_avg_20</th>\n",
       "      <th>mag_avg_10</th>\n",
       "      <th>mag_avg_5</th>\n",
       "    </tr>\n",
       "  </thead>\n",
       "  <tbody>\n",
       "    <tr>\n",
       "      <th>5040</th>\n",
       "      <td>1.24</td>\n",
       "      <td>5.667727</td>\n",
       "      <td>5.356000</td>\n",
       "      <td>2.601429</td>\n",
       "      <td>1.015000</td>\n",
       "      <td>1.053333</td>\n",
       "      <td>1.262857</td>\n",
       "    </tr>\n",
       "    <tr>\n",
       "      <th>12436</th>\n",
       "      <td>7.42</td>\n",
       "      <td>5.999545</td>\n",
       "      <td>5.690000</td>\n",
       "      <td>6.151429</td>\n",
       "      <td>1.174091</td>\n",
       "      <td>1.178000</td>\n",
       "      <td>0.987143</td>\n",
       "    </tr>\n",
       "    <tr>\n",
       "      <th>9754</th>\n",
       "      <td>-1.66</td>\n",
       "      <td>4.776364</td>\n",
       "      <td>3.917333</td>\n",
       "      <td>1.904286</td>\n",
       "      <td>1.321818</td>\n",
       "      <td>1.357333</td>\n",
       "      <td>1.332857</td>\n",
       "    </tr>\n",
       "    <tr>\n",
       "      <th>5826</th>\n",
       "      <td>3.92</td>\n",
       "      <td>5.637273</td>\n",
       "      <td>5.478667</td>\n",
       "      <td>5.301429</td>\n",
       "      <td>1.020455</td>\n",
       "      <td>0.998667</td>\n",
       "      <td>1.102857</td>\n",
       "    </tr>\n",
       "    <tr>\n",
       "      <th>10766</th>\n",
       "      <td>4.90</td>\n",
       "      <td>6.472727</td>\n",
       "      <td>5.180000</td>\n",
       "      <td>3.542857</td>\n",
       "      <td>1.213636</td>\n",
       "      <td>1.240000</td>\n",
       "      <td>1.242857</td>\n",
       "    </tr>\n",
       "    <tr>\n",
       "      <th>...</th>\n",
       "      <td>...</td>\n",
       "      <td>...</td>\n",
       "      <td>...</td>\n",
       "      <td>...</td>\n",
       "      <td>...</td>\n",
       "      <td>...</td>\n",
       "      <td>...</td>\n",
       "    </tr>\n",
       "    <tr>\n",
       "      <th>11964</th>\n",
       "      <td>13.30</td>\n",
       "      <td>9.027273</td>\n",
       "      <td>8.440000</td>\n",
       "      <td>9.228571</td>\n",
       "      <td>1.163636</td>\n",
       "      <td>1.213333</td>\n",
       "      <td>1.328571</td>\n",
       "    </tr>\n",
       "    <tr>\n",
       "      <th>5191</th>\n",
       "      <td>-0.72</td>\n",
       "      <td>5.966818</td>\n",
       "      <td>5.752000</td>\n",
       "      <td>5.244286</td>\n",
       "      <td>0.970000</td>\n",
       "      <td>0.983333</td>\n",
       "      <td>1.204286</td>\n",
       "    </tr>\n",
       "    <tr>\n",
       "      <th>5390</th>\n",
       "      <td>3.10</td>\n",
       "      <td>6.494545</td>\n",
       "      <td>6.809333</td>\n",
       "      <td>6.000000</td>\n",
       "      <td>0.932273</td>\n",
       "      <td>0.922000</td>\n",
       "      <td>0.817143</td>\n",
       "    </tr>\n",
       "    <tr>\n",
       "      <th>860</th>\n",
       "      <td>19.90</td>\n",
       "      <td>32.025455</td>\n",
       "      <td>26.430000</td>\n",
       "      <td>9.288571</td>\n",
       "      <td>1.151818</td>\n",
       "      <td>1.017333</td>\n",
       "      <td>0.978571</td>\n",
       "    </tr>\n",
       "    <tr>\n",
       "      <th>7270</th>\n",
       "      <td>5.54</td>\n",
       "      <td>5.604545</td>\n",
       "      <td>5.050000</td>\n",
       "      <td>5.924286</td>\n",
       "      <td>1.017273</td>\n",
       "      <td>1.020000</td>\n",
       "      <td>0.994286</td>\n",
       "    </tr>\n",
       "  </tbody>\n",
       "</table>\n",
       "<p>10152 rows × 7 columns</p>\n",
       "</div>"
      ],
      "text/plain": [
       "       depth  depth_avg_20  depth_avg_10  depth_avg_5  mag_avg_20  mag_avg_10  \\\n",
       "5040    1.24      5.667727      5.356000     2.601429    1.015000    1.053333   \n",
       "12436   7.42      5.999545      5.690000     6.151429    1.174091    1.178000   \n",
       "9754   -1.66      4.776364      3.917333     1.904286    1.321818    1.357333   \n",
       "5826    3.92      5.637273      5.478667     5.301429    1.020455    0.998667   \n",
       "10766   4.90      6.472727      5.180000     3.542857    1.213636    1.240000   \n",
       "...      ...           ...           ...          ...         ...         ...   \n",
       "11964  13.30      9.027273      8.440000     9.228571    1.163636    1.213333   \n",
       "5191   -0.72      5.966818      5.752000     5.244286    0.970000    0.983333   \n",
       "5390    3.10      6.494545      6.809333     6.000000    0.932273    0.922000   \n",
       "860    19.90     32.025455     26.430000     9.288571    1.151818    1.017333   \n",
       "7270    5.54      5.604545      5.050000     5.924286    1.017273    1.020000   \n",
       "\n",
       "       mag_avg_5  \n",
       "5040    1.262857  \n",
       "12436   0.987143  \n",
       "9754    1.332857  \n",
       "5826    1.102857  \n",
       "10766   1.242857  \n",
       "...          ...  \n",
       "11964   1.328571  \n",
       "5191    1.204286  \n",
       "5390    0.817143  \n",
       "860     0.978571  \n",
       "7270    0.994286  \n",
       "\n",
       "[10152 rows x 7 columns]"
      ]
     },
     "execution_count": 9,
     "metadata": {},
     "output_type": "execute_result"
    }
   ],
   "source": [
    "X_train"
   ]
  },
  {
   "cell_type": "code",
   "execution_count": 10,
   "id": "96998fb9",
   "metadata": {},
   "outputs": [
    {
     "data": {
      "text/plain": [
       "['depth',\n",
       " 'depth_avg_20',\n",
       " 'depth_avg_10',\n",
       " 'depth_avg_5',\n",
       " 'mag_avg_20',\n",
       " 'mag_avg_10',\n",
       " 'mag_avg_5']"
      ]
     },
     "execution_count": 10,
     "metadata": {},
     "output_type": "execute_result"
    }
   ],
   "source": [
    "attributes"
   ]
  },
  {
   "cell_type": "markdown",
   "id": "705165c0",
   "metadata": {},
   "source": [
    "# Using Random Forest Classifier"
   ]
  },
  {
   "cell_type": "code",
   "execution_count": 11,
   "id": "6f4ed49c",
   "metadata": {},
   "outputs": [
    {
     "data": {
      "text/plain": [
       "GridSearchCV(cv=5,\n",
       "             estimator=RandomForestClassifier(max_features='sqrt',\n",
       "                                              n_estimators=50, n_jobs=-1,\n",
       "                                              oob_score=True),\n",
       "             param_grid={'max_features': ['auto', 'sqrt', 'log2'],\n",
       "                         'n_estimators': [200, 800]})"
      ]
     },
     "execution_count": 11,
     "metadata": {},
     "output_type": "execute_result"
    }
   ],
   "source": [
    "random_forest = RandomForestClassifier(n_jobs=-1,max_features= 'sqrt' ,n_estimators=50, oob_score = True) \n",
    "\n",
    "param_grid = { \n",
    "    'n_estimators': [200, 800],\n",
    "    'max_features': ['auto', 'sqrt', 'log2']\n",
    "}\n",
    "\n",
    "random_forest.fit(X_train,y_train)\n",
    "\n",
    "CV_random_forest = GridSearchCV(estimator=random_forest, param_grid=param_grid, cv= 5)\n",
    "CV_random_forest.fit(X_train, y_train)\n",
    "    \n"
   ]
  },
  {
   "cell_type": "code",
   "execution_count": 12,
   "id": "02c8a636",
   "metadata": {},
   "outputs": [],
   "source": [
    "pred=CV_random_forest.predict(X_test)"
   ]
  },
  {
   "cell_type": "code",
   "execution_count": 13,
   "id": "73dba79c",
   "metadata": {},
   "outputs": [
    {
     "data": {
      "text/plain": [
       "array([1, 0, 0, ..., 0, 0, 0])"
      ]
     },
     "execution_count": 13,
     "metadata": {},
     "output_type": "execute_result"
    }
   ],
   "source": [
    "pred"
   ]
  },
  {
   "cell_type": "markdown",
   "id": "75a81882",
   "metadata": {},
   "source": [
    "# Evaluation using Area Under Curve"
   ]
  },
  {
   "cell_type": "code",
   "execution_count": 14,
   "id": "b8858e21",
   "metadata": {},
   "outputs": [
    {
     "name": "stdout",
     "output_type": "stream",
     "text": [
      "0.9008113367758607\n",
      "AUC: 0.9008\n"
     ]
    },
    {
     "data": {
      "image/png": "[encoded data removed]",
      "text/plain": [
       "<Figure size 432x288 with 1 Axes>"
      ]
     },
     "metadata": {
      "needs_background": "light"
     },
     "output_type": "display_data"
    },
    {
     "name": "stdout",
     "output_type": "stream",
     "text": [
      "Confusion Matrix: \n",
      " [[2412   25]\n",
      " [  19   82]]\n",
      "\n",
      "Recall 'TP/TP+FN' =  0.8118811881188119\n"
     ]
    }
   ],
   "source": [
    "print(roc_auc_score(y_test, pred))\n",
    "\n",
    "fpr, tpr, _ = roc_curve(y_test, pred)\n",
    "roc_auc = auc(fpr, tpr)\n",
    "print('AUC:', np.round(roc_auc,4))\n",
    "\n",
    "plt.title('Receiver Operating Characteristic')\n",
    "plt.plot(fpr, tpr, 'b', label = 'AUC = %0.2f' % roc_auc)\n",
    "plt.legend(loc = 'lower right')\n",
    "plt.plot([0, 1], [0, 1],'r--')\n",
    "plt.xlim([0, 1])\n",
    "plt.ylim([0, 1])\n",
    "plt.ylabel('True Positive Rate')\n",
    "plt.xlabel('False Positive Rate')\n",
    "plt.show()\n",
    "\n",
    "\n",
    "print(\"Confusion Matrix: \\n\",confusion_matrix(y_test,pred))\n",
    "print(\"\\nRecall 'TP/TP+FN' = \", recall_score(y_test,pred))"
   ]
  },
  {
   "cell_type": "markdown",
   "id": "543e49d5",
   "metadata": {},
   "source": [
    "# Using Decision Tree Classifier"
   ]
  },
  {
   "cell_type": "code",
   "execution_count": 15,
   "id": "85e275d7",
   "metadata": {},
   "outputs": [
    {
     "data": {
      "text/plain": [
       "AdaBoostClassifier(algorithm='SAMME', base_estimator=DecisionTreeClassifier(),\n",
       "                   learning_rate=0.6)"
      ]
     },
     "execution_count": 15,
     "metadata": {},
     "output_type": "execute_result"
    }
   ],
   "source": [
    "param_grid = {\n",
    "              \"base_estimator__max_depth\" :   [2,5,7],\n",
    "              \"n_estimators\": [200, 400, 600]\n",
    "             }\n",
    "\n",
    "# base estimator\n",
    "tree = DecisionTreeClassifier()\n",
    "\n",
    "# adaboost with the tree as base estimator\n",
    "# learning rate is arbitrarily set to 0.6,\n",
    "ABC = AdaBoostClassifier(\n",
    "    base_estimator=tree,\n",
    "    learning_rate=0.6,\n",
    "    algorithm=\"SAMME\")\n",
    "\n",
    "ABC.fit(X_train,y_train)"
   ]
  },
  {
   "cell_type": "code",
   "execution_count": 16,
   "id": "a472ef39",
   "metadata": {},
   "outputs": [],
   "source": [
    "pred_ABC=ABC.predict(X_test)"
   ]
  },
  {
   "cell_type": "markdown",
   "id": "18d4c5c9",
   "metadata": {},
   "source": [
    "# Evaluation using Area Under Curve"
   ]
  },
  {
   "cell_type": "code",
   "execution_count": 17,
   "id": "66f8341f",
   "metadata": {
    "scrolled": true
   },
   "outputs": [
    {
     "name": "stdout",
     "output_type": "stream",
     "text": [
      "0.8603866952144538\n",
      "AUC: 0.8604\n"
     ]
    },
    {
     "data": {
      "image/png": "[encoded data removed]",
      "text/plain": [
       "<Figure size 432x288 with 1 Axes>"
      ]
     },
     "metadata": {
      "needs_background": "light"
     },
     "output_type": "display_data"
    },
    {
     "name": "stdout",
     "output_type": "stream",
     "text": [
      "Confusion Matrix: \n",
      " [[2408   29]\n",
      " [  27   74]]\n",
      "\n",
      "Recall 'TP/TP+FN' =  0.7326732673267327\n"
     ]
    }
   ],
   "source": [
    "print(roc_auc_score(y_test, pred_ABC))\n",
    "\n",
    "fpr, tpr, _ = roc_curve(y_test, pred_ABC)\n",
    "roc_auc = auc(fpr, tpr)\n",
    "print('AUC:', np.round(roc_auc,4))\n",
    "\n",
    "plt.title('Receiver Operating Characteristic')\n",
    "plt.plot(fpr, tpr, 'b', label = 'AUC = %0.2f' % roc_auc)\n",
    "plt.legend(loc = 'lower right')\n",
    "plt.plot([0, 1], [0, 1],'r--')\n",
    "plt.xlim([0, 1])\n",
    "plt.ylim([0, 1])\n",
    "plt.ylabel('True Positive Rate')\n",
    "plt.xlabel('False Positive Rate')\n",
    "plt.show()\n",
    "\n",
    "\n",
    "print(\"Confusion Matrix: \\n\",confusion_matrix(y_test,pred_ABC))\n",
    "print(\"\\nRecall 'TP/TP+FN' = \", recall_score(y_test,pred_ABC))"
   ]
  },
  {
   "cell_type": "markdown",
   "id": "38b39700",
   "metadata": {},
   "source": [
    "# Using XGBost"
   ]
  },
  {
   "cell_type": "code",
   "execution_count": 19,
   "id": "0a2db095",
   "metadata": {},
   "outputs": [
    {
     "name": "stdout",
     "output_type": "stream",
     "text": [
      "[20:38:44] WARNING: /workspace/src/learner.cc:480: \n",
      "Parameters: { silent } might not be used.\n",
      "\n",
      "  This may not be accurate due to some parameters are only used in language bindings but\n",
      "  passed down to XGBoost core.  Or some parameters are not used but slip through this\n",
      "  verification. Please open an issue if you find above cases.\n",
      "\n",
      "\n",
      "0.9883235758947253\n",
      "AUC: 0.9883\n"
     ]
    },
    {
     "data": {
      "image/png": "[encoded data removed]",
      "text/plain": [
       "<Figure size 432x288 with 1 Axes>"
      ]
     },
     "metadata": {
      "needs_background": "light"
     },
     "output_type": "display_data"
    },
    {
     "name": "stdout",
     "output_type": "stream",
     "text": [
      "Confusion Matrix: \n",
      " [[2413   24]\n",
      " [  20   81]]\n",
      "\n",
      "Recall 'TP/TP+FN' =  0.801980198019802\n"
     ]
    }
   ],
   "source": [
    "\n",
    "dtrain = xgb.DMatrix(X_train[attributes], label=y_train)\n",
    "dtest = xgb.DMatrix(X_test[attributes], label=y_test)\n",
    "\n",
    "\n",
    "param = {\n",
    "        'objective': 'binary:logistic',\n",
    "        'booster': 'gbtree',\n",
    "        'eval_metric': 'auc',\n",
    "        'max_depth': 6,  # the maximum depth of each tree\n",
    "        'eta': 0.003,  # the training step for each iteration\n",
    "        'silent': 1}  # logging mode - quiet}  # the number of classes that exist in this datset\n",
    "num_round = 5000  # the number of training iterations    \n",
    "bst = xgb.train(param, dtrain, num_round)\n",
    "preds = bst.predict(dtest)\n",
    "\n",
    "print (roc_auc_score(y_test, preds))\n",
    "fpr, tpr, _ = roc_curve(y_test, preds)\n",
    "roc_auc = auc(fpr, tpr)\n",
    "print('AUC:', np.round(roc_auc,4))\n",
    "\n",
    "ypred_bst = np.array(bst.predict(dtest,ntree_limit=bst.best_iteration))\n",
    "ypred_bst  = ypred_bst > 0.5\n",
    "ypred_bst = ypred_bst.astype(int)  \n",
    "\n",
    "plt.title('Receiver Operating Characteristic')\n",
    "plt.plot(fpr, tpr, 'b', label = 'AUC = %0.2f' % roc_auc)\n",
    "plt.legend(loc = 'lower right')\n",
    "plt.plot([0, 1], [0, 1],'r--')\n",
    "plt.xlim([0, 1])\n",
    "plt.ylim([0, 1])\n",
    "plt.ylabel('True Positive Rate')\n",
    "plt.xlabel('False Positive Rate')\n",
    "plt.show()\n",
    "print(\"Confusion Matrix: \\n\",confusion_matrix(y_test,ypred_bst))\n",
    "print(\"\\nRecall 'TP/TP+FN' = \", recall_score(y_test,ypred_bst))"
   ]
  },
  {
   "cell_type": "markdown",
   "id": "a9da8c4e",
   "metadata": {},
   "source": [
    "# Final decision on which model to use? after critical review I realized that XGBoost  has a higher AUC than Decision Tree Classifier and Random Forest Classifier"
   ]
  },
  {
   "cell_type": "markdown",
   "id": "6736dfea",
   "metadata": {},
   "source": [
    "Select specific features such as data,place,long,lat and give earthquake probablity from prediction at that place and date as quake probability"
   ]
  },
  {
   "cell_type": "markdown",
   "id": "3366b5b2",
   "metadata": {},
   "source": [
    "Taking a range of 5 days"
   ]
  },
  {
   "cell_type": "code",
   "execution_count": 21,
   "id": "7b322341",
   "metadata": {},
   "outputs": [
    {
     "data": {
      "image/png": "[encoded data removed]",
      "text/plain": [
       "<Figure size 432x288 with 1 Axes>"
      ]
     },
     "metadata": {
      "needs_background": "light"
     },
     "output_type": "display_data"
    }
   ],
   "source": [
    "dlive = xgb.DMatrix(data[attributes]) #, label=[])\n",
    "preds = bst.predict(dlive)\n",
    "\n",
    "plt.plot(preds)\n",
    "plt.show()"
   ]
  },
  {
   "cell_type": "code",
   "execution_count": 34,
   "id": "87b165b8",
   "metadata": {},
   "outputs": [
    {
     "data": {
      "text/html": [
       "<div>\n",
       "<style scoped>\n",
       "    .dataframe tbody tr th:only-of-type {\n",
       "        vertical-align: middle;\n",
       "    }\n",
       "\n",
       "    .dataframe tbody tr th {\n",
       "        vertical-align: top;\n",
       "    }\n",
       "\n",
       "    .dataframe thead th {\n",
       "        text-align: right;\n",
       "    }\n",
       "</style>\n",
       "<table border=\"1\" class=\"dataframe\">\n",
       "  <thead>\n",
       "    <tr style=\"text-align: right;\">\n",
       "      <th></th>\n",
       "      <th>date</th>\n",
       "      <th>place</th>\n",
       "      <th>latitude</th>\n",
       "      <th>longitude</th>\n",
       "      <th>preds</th>\n",
       "    </tr>\n",
       "  </thead>\n",
       "  <tbody>\n",
       "    <tr>\n",
       "      <th>0</th>\n",
       "      <td>2020-07-10</td>\n",
       "      <td>Alaska</td>\n",
       "      <td>58.815605</td>\n",
       "      <td>-155.210617</td>\n",
       "      <td>0.002724</td>\n",
       "    </tr>\n",
       "    <tr>\n",
       "      <th>1</th>\n",
       "      <td>2020-07-10</td>\n",
       "      <td>CA</td>\n",
       "      <td>36.342380</td>\n",
       "      <td>-119.067160</td>\n",
       "      <td>0.000064</td>\n",
       "    </tr>\n",
       "    <tr>\n",
       "      <th>2</th>\n",
       "      <td>2020-07-10</td>\n",
       "      <td>Nevada</td>\n",
       "      <td>38.162231</td>\n",
       "      <td>-117.923334</td>\n",
       "      <td>0.000093</td>\n",
       "    </tr>\n",
       "    <tr>\n",
       "      <th>3</th>\n",
       "      <td>2020-07-10</td>\n",
       "      <td>Puerto Rico</td>\n",
       "      <td>17.983033</td>\n",
       "      <td>-66.915512</td>\n",
       "      <td>0.751901</td>\n",
       "    </tr>\n",
       "    <tr>\n",
       "      <th>4</th>\n",
       "      <td>2020-07-11</td>\n",
       "      <td>Alaska</td>\n",
       "      <td>58.815605</td>\n",
       "      <td>-155.210617</td>\n",
       "      <td>0.004601</td>\n",
       "    </tr>\n",
       "    <tr>\n",
       "      <th>...</th>\n",
       "      <td>...</td>\n",
       "      <td>...</td>\n",
       "      <td>...</td>\n",
       "      <td>...</td>\n",
       "      <td>...</td>\n",
       "    </tr>\n",
       "    <tr>\n",
       "      <th>357</th>\n",
       "      <td>2020-08-08</td>\n",
       "      <td>Nevada</td>\n",
       "      <td>38.162231</td>\n",
       "      <td>-117.923334</td>\n",
       "      <td>0.000161</td>\n",
       "    </tr>\n",
       "    <tr>\n",
       "      <th>358</th>\n",
       "      <td>2020-08-08</td>\n",
       "      <td>Oklahoma</td>\n",
       "      <td>36.223580</td>\n",
       "      <td>-97.636415</td>\n",
       "      <td>0.000097</td>\n",
       "    </tr>\n",
       "    <tr>\n",
       "      <th>359</th>\n",
       "      <td>2020-08-09</td>\n",
       "      <td>Alaska</td>\n",
       "      <td>58.815605</td>\n",
       "      <td>-155.210617</td>\n",
       "      <td>0.045717</td>\n",
       "    </tr>\n",
       "    <tr>\n",
       "      <th>360</th>\n",
       "      <td>2020-08-09</td>\n",
       "      <td>CA</td>\n",
       "      <td>36.342380</td>\n",
       "      <td>-119.067160</td>\n",
       "      <td>0.000101</td>\n",
       "    </tr>\n",
       "    <tr>\n",
       "      <th>361</th>\n",
       "      <td>2020-08-09</td>\n",
       "      <td>Nevada</td>\n",
       "      <td>38.162231</td>\n",
       "      <td>-117.923334</td>\n",
       "      <td>0.000059</td>\n",
       "    </tr>\n",
       "  </tbody>\n",
       "</table>\n",
       "<p>362 rows × 5 columns</p>\n",
       "</div>"
      ],
      "text/plain": [
       "          date        place   latitude   longitude     preds\n",
       "0   2020-07-10       Alaska  58.815605 -155.210617  0.002724\n",
       "1   2020-07-10           CA  36.342380 -119.067160  0.000064\n",
       "2   2020-07-10       Nevada  38.162231 -117.923334  0.000093\n",
       "3   2020-07-10  Puerto Rico  17.983033  -66.915512  0.751901\n",
       "4   2020-07-11       Alaska  58.815605 -155.210617  0.004601\n",
       "..         ...          ...        ...         ...       ...\n",
       "357 2020-08-08       Nevada  38.162231 -117.923334  0.000161\n",
       "358 2020-08-08     Oklahoma  36.223580  -97.636415  0.000097\n",
       "359 2020-08-09       Alaska  58.815605 -155.210617  0.045717\n",
       "360 2020-08-09           CA  36.342380 -119.067160  0.000101\n",
       "361 2020-08-09       Nevada  38.162231 -117.923334  0.000059\n",
       "\n",
       "[362 rows x 5 columns]"
      ]
     },
     "execution_count": 34,
     "metadata": {},
     "output_type": "execute_result"
    }
   ],
   "source": [
    "real_time = data[['date', 'place', 'latitude', 'longitude']]\n",
    "real_time = real_time.assign(preds=pd.Series(preds).values)# aggregate down dups\n",
    "real_time = real_time.groupby(['date', 'place'], as_index=False).mean()\n",
    "\n",
    "# increment date to include DAYS_OUT_TO_PREDICT\n",
    "real_time['date']= pd.to_datetime(real_time['date'],format='%Y-%m-%d') \n",
    "real_time['date'] = real_time['date'] + pd.to_timedelta(5,unit='d')\n",
    "real_time"
   ]
  },
  {
   "cell_type": "code",
   "execution_count": 35,
   "id": "8e2a01c7",
   "metadata": {},
   "outputs": [
    {
     "data": {
      "text/plain": [
       "array([0.00319373, 0.00865015, 0.00307712, ..., 0.9947424 , 0.9953269 ,\n",
       "       0.9944596 ], dtype=float32)"
      ]
     },
     "execution_count": 35,
     "metadata": {},
     "output_type": "execute_result"
    }
   ],
   "source": [
    "preds"
   ]
  },
  {
   "cell_type": "code",
   "execution_count": 36,
   "id": "38a2136a",
   "metadata": {},
   "outputs": [],
   "source": [
    "import datetime as dt\n"
   ]
  },
  {
   "cell_type": "code",
   "execution_count": 37,
   "id": "666d9d6f",
   "metadata": {},
   "outputs": [],
   "source": [
    "days = list(set([d for d in real_time['date'].astype(str) if d > dt.datetime.today().strftime('%Y-%m-%d')]))\n"
   ]
  },
  {
   "cell_type": "code",
   "execution_count": 38,
   "id": "f5402c3d",
   "metadata": {},
   "outputs": [],
   "source": [
    "days.sort()\n"
   ]
  },
  {
   "cell_type": "code",
   "execution_count": 39,
   "id": "5ab5d7f6",
   "metadata": {},
   "outputs": [],
   "source": [
    "predict_day=real_time['date'],[2]\n"
   ]
  },
  {
   "cell_type": "code",
   "execution_count": 40,
   "id": "702a8a4f",
   "metadata": {
    "scrolled": true
   },
   "outputs": [
    {
     "data": {
      "text/plain": [
       "(0     2020-07-10\n",
       " 1     2020-07-10\n",
       " 2     2020-07-10\n",
       " 3     2020-07-10\n",
       " 4     2020-07-11\n",
       "          ...    \n",
       " 357   2020-08-08\n",
       " 358   2020-08-08\n",
       " 359   2020-08-09\n",
       " 360   2020-08-09\n",
       " 361   2020-08-09\n",
       " Name: date, Length: 362, dtype: datetime64[ns],\n",
       " [2])"
      ]
     },
     "execution_count": 40,
     "metadata": {},
     "output_type": "execute_result"
    }
   ],
   "source": [
    "predict_day"
   ]
  },
  {
   "cell_type": "code",
   "execution_count": null,
   "id": "bc3c930b",
   "metadata": {},
   "outputs": [],
   "source": []
  },
  {
   "cell_type": "code",
   "execution_count": null,
   "id": "9e3cc58a",
   "metadata": {},
   "outputs": [],
   "source": []
  },
  {
   "cell_type": "code",
   "execution_count": null,
   "id": "14e6855f",
   "metadata": {},
   "outputs": [],
   "source": []
  }
 ],
 "metadata": {
  "kernelspec": {
   "display_name": "Python 3",
   "language": "python",
   "name": "python3"
  },
  "language_info": {
   "codemirror_mode": {
    "name": "ipython",
    "version": 3
   },
   "file_extension": ".py",
   "mimetype": "text/x-python",
   "name": "python",
   "nbconvert_exporter": "python",
   "pygments_lexer": "ipython3",
   "version": "3.6.9"
  }
 },
 "nbformat": 4,
 "nbformat_minor": 5
}
